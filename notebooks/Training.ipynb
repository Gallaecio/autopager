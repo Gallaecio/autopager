{
 "cells": [
  {
   "cell_type": "code",
   "execution_count": 1,
   "metadata": {
    "collapsed": false
   },
   "outputs": [],
   "source": [
    "import os\n",
    "import re\n",
    "import sys\n",
    "from collections import Counter\n",
    "from itertools import islice\n",
    "from urllib.parse import urlparse, urlsplit, parse_qs, parse_qsl\n",
    "\n",
    "import numpy as np\n",
    "import parsel\n",
    "import sklearn_crfsuite\n",
    "from sklearn_crfsuite.metrics import flat_classification_report, sequence_accuracy_score\n",
    "from sklearn.model_selection import cross_val_predict, GroupKFold\n",
    "# from formasaurus.utils import download\n",
    "\n",
    "sys.path.insert(0, '..')\n",
    "from autopager.storage import Storage\n",
    "from autopager.htmlutils import (get_link_text, get_text_around_selector_list,\n",
    "                                 get_link_href, get_selector_root)\n",
    "from autopager.utils import (\n",
    "    get_domain, normalize_whitespaces, normalize, ngrams, tokenize, ngrams_wb, replace_digits\n",
    ")\n",
    "from autopager.evaluate import get_annotation_folds\n",
    "from autopager.model import link_to_features, _num_tokens_feature, _elem_attr, AUTOPAGER_LIMITS"
   ]
  },
  {
   "cell_type": "code",
   "execution_count": 2,
   "metadata": {
    "collapsed": false
   },
   "outputs": [
    {
     "name": "stdout",
     "output_type": "stream",
     "text": [
      "Not all links are matched {'<a>1</a>'}\n",
      "Not all links are matched {'<a>6</a>'}\n",
      "Not all links are matched {'<a onclick=\"display(\\'grid\\');\">Mosaico</a>'}\n",
      "Not all links are matched {'<a onclick=\"display(\\'grid\\');\">Mosaico</a>'}\n",
      "Not all links are matched {'<a class=\"btn prev disabled\" type=\"backward\"><i class=\"icon-chevron-left\"> </i></a>'}\n",
      "pages: 196  domains: 81\n"
     ]
    }
   ],
   "source": [
    "storage = Storage()\n",
    "urls = [rec['Page URL'] for rec in storage.iter_records()]\n",
    "X_raw, y = storage.get_Xy()\n",
    "print(\"pages: {}  domains: {}\".format(len(urls), len({get_domain(url) for url in urls})))"
   ]
  },
  {
   "cell_type": "code",
   "execution_count": 3,
   "metadata": {
    "collapsed": false
   },
   "outputs": [
    {
     "name": "stdout",
     "output_type": "stream",
     "text": [
      "CPU times: user 9.44 s, sys: 103 ms, total: 9.54 s\n",
      "Wall time: 9.6 s\n"
     ]
    }
   ],
   "source": [
    "%%time\n",
    "# XXX: these functions should be copy-pasted from autopager/model.py\n",
    "\n",
    "def link_to_features(link):\n",
    "    text = normalize(get_link_text(link))\n",
    "\n",
    "    href = get_link_href(link)\n",
    "    p = urlsplit(href)\n",
    "\n",
    "    query_parsed = parse_qsl(p.query)\n",
    "    query_param_names = [k.lower() for k, v in query_parsed]\n",
    "    query_param_names_ngrams = list(ngrams_wb(\n",
    "        \" \".join([normalize(name) for name in query_param_names]), 3, 5, True\n",
    "    ))\n",
    "\n",
    "    elem = get_selector_root(link)\n",
    "    elem_target = _elem_attr(elem, 'target')\n",
    "    elem_rel = _elem_attr(elem, 'rel')\n",
    "\n",
    "    # Classes of link itself and all its children.\n",
    "    # It is common to have e.g. span elements with fontawesome\n",
    "    # arrow icon classes inside <a> links.\n",
    "    self_and_children_classes = ' '.join(link.xpath(\".//@class\").extract())\n",
    "    parent_classes = ' '.join(link.xpath('../@class').extract())\n",
    "    css_classes = normalize(parent_classes + ' ' + self_and_children_classes)\n",
    "\n",
    "    return {\n",
    "        'bias': 3.0,\n",
    "        'isdigit': text.isdigit(),\n",
    "        'isalpha': text.isalpha(),\n",
    "        'elem-target': elem_target,\n",
    "        'elem-rel': elem_rel,\n",
    "        'num-tokens%s' % _num_tokens_feature(text): 1.0,\n",
    "\n",
    "        'text': list(islice(ngrams_wb(replace_digits(text), 2, 5),\n",
    "                            0, AUTOPAGER_LIMITS.max_text_features)),\n",
    "        'text-exact': replace_digits(text.strip()[:20].strip()),\n",
    "        'class': list(islice(ngrams_wb(css_classes, 4, 5),\n",
    "                             0, AUTOPAGER_LIMITS.max_css_features)),\n",
    "        'query': query_param_names_ngrams,\n",
    "\n",
    "        'path-has-page': 'page' in p.path.lower(),\n",
    "        'path-has-pageXX': re.search(r'[/-](?:p|page\\w?)/?\\d+', p.path.lower()) is not None,\n",
    "        'path-has-number': any(part.isdigit() for part in p.path.split('/')),\n",
    "\n",
    "        'href-has-year': re.search('20\\d\\d', href) is not None,\n",
    "    }\n",
    "\n",
    "\n",
    "def page_to_features(xseq):\n",
    "    features = [link_to_features(a) for a in xseq]\n",
    "    around = get_text_around_selector_list(xseq, max_length=15)\n",
    "\n",
    "    # weight is less than 1 because there is a lot of duplicate information\n",
    "    # in these ngrams and so we want to regularize them stronger\n",
    "    # (as if they are a single feature, not many features)\n",
    "    k = 0.2\n",
    "    for feat, (before, after) in zip(features, around):\n",
    "        feat['text-before'] = {n: k for n in list(ngrams_wb(normalize(before), 5, 5))}\n",
    "        feat['text-after'] = {n: k for n in list(ngrams_wb(normalize(after), 5, 5))}\n",
    "    return features\n",
    "\n",
    "X = [page_to_features(xseq) for xseq in X_raw]"
   ]
  },
  {
   "cell_type": "code",
   "execution_count": 4,
   "metadata": {
    "collapsed": false
   },
   "outputs": [],
   "source": [
    "# X[60][12]"
   ]
  },
  {
   "cell_type": "code",
   "execution_count": 5,
   "metadata": {
    "collapsed": false
   },
   "outputs": [],
   "source": [
    "# TRAIN_SIZE = 80\n",
    "# X_train, y_train = X[:TRAIN_SIZE], y[:TRAIN_SIZE]\n",
    "# X_test, y_test = X[TRAIN_SIZE:], y[TRAIN_SIZE:]\n",
    "crf = sklearn_crfsuite.CRF(\n",
    "    algorithm='lbfgs',\n",
    "    c1=0.001,\n",
    "    c2=0.05,\n",
    "    max_iterations=100,\n",
    "    all_possible_transitions=True,\n",
    "    verbose=False,\n",
    ")\n",
    "# crf.fit(X_train, y_train, X_test, y_test)"
   ]
  },
  {
   "cell_type": "code",
   "execution_count": 6,
   "metadata": {
    "collapsed": false
   },
   "outputs": [
    {
     "name": "stderr",
     "output_type": "stream",
     "text": [
      "/home/ivan/Documentos/scrapinghub/dev/autocrawl_env/lib/python3.7/site-packages/sklearn/base.py:213: FutureWarning: From version 0.24, get_params will raise an AttributeError if a parameter cannot be retrieved as an instance attribute. Previously it would return None.\n",
      "  FutureWarning)\n",
      "/home/ivan/Documentos/scrapinghub/dev/autocrawl_env/lib/python3.7/site-packages/sklearn/utils/validation.py:70: FutureWarning: Pass labels=['PAGE', 'NEXT', 'PREV'] as keyword args. From version 0.25 passing these as positional arguments will result in an error\n",
      "  FutureWarning)\n"
     ]
    },
    {
     "name": "stdout",
     "output_type": "stream",
     "text": [
      "              precision    recall  f1-score   support\n",
      "\n",
      "        PAGE      0.872     0.925     0.898      1178\n",
      "        NEXT      0.903     0.781     0.837       155\n",
      "        PREV      0.892     0.812     0.850       112\n",
      "\n",
      "   micro avg      0.876     0.901     0.888      1445\n",
      "   macro avg      0.889     0.839     0.862      1445\n",
      "weighted avg      0.877     0.901     0.888      1445\n",
      "\n",
      "Sequence accuracy: 0.612\n",
      "CPU times: user 1min 1s, sys: 1.47 s, total: 1min 3s\n",
      "Wall time: 1min 16s\n"
     ]
    }
   ],
   "source": [
    "%%time\n",
    "#folds = get_annotation_folds(urls, 6)\n",
    "group_kfold = GroupKFold(6)\n",
    "groups=[get_domain(url) for url in urls]\n",
    "y_pred = cross_val_predict(crf, X, y, groups=groups, cv=group_kfold, n_jobs=-1)\n",
    "print(flat_classification_report(y, y_pred, labels=['PAGE', 'NEXT', 'PREV'], digits=3))\n",
    "print(\"Sequence accuracy: {:0.3f}\".format(sequence_accuracy_score(y, y_pred)))"
   ]
  },
  {
   "cell_type": "code",
   "execution_count": 7,
   "metadata": {
    "collapsed": false
   },
   "outputs": [
    {
     "data": {
      "text/plain": "11514"
     },
     "execution_count": 7,
     "metadata": {},
     "output_type": "execute_result"
    }
   ],
   "source": [
    "crf.fit(X, y)\n",
    "# crf.attributes_\n",
    "crf.num_attributes_"
   ]
  },
  {
   "cell_type": "code",
   "execution_count": 8,
   "metadata": {
    "collapsed": false
   },
   "outputs": [],
   "source": [
    "# [a for a in sorted(crf.attributes_) if a.startswith('id')]"
   ]
  },
  {
   "cell_type": "markdown",
   "metadata": {},
   "source": [
    "## What are important features?"
   ]
  },
  {
   "cell_type": "code",
   "execution_count": 9,
   "metadata": {
    "collapsed": false,
    "scrolled": true
   },
   "outputs": [
    {
     "name": "stdout",
     "output_type": "stream",
     "text": [
      "Top positive:\n",
      "2.908590 PAGE     text:末页\n",
      "2.908590 PAGE     text-exact:末页\n",
      "2.897269 NEXT     class:next\n",
      "2.674313 PAGE     isdigit\n",
      "2.409984 NEXT     text:>\n",
      "2.257835 O        elem-rel:nofollow\n",
      "2.040691 PREV     text:<\n",
      "1.928678 NEXT     text-exact:»\n",
      "1.893480 PAGE     text-exact:首页\n",
      "1.880481 PAGE     text-exact:X\n",
      "1.846517 PAGE     text:首页\n",
      "1.833171 NEXT     text-exact:>\n",
      "1.763758 PREV     text-exact:«\n",
      "1.687928 O        text:..\n",
      "1.655565 PREV     text-exact:<\n",
      "1.653429 PREV     class:prev\n",
      "1.498988 O        text-exact:>>\n",
      "1.455909 PREV     text:«\n",
      "1.454248 NEXT     text:»\n",
      "1.450213 PAGE     text:X\n",
      "1.440575 NEXT     text:下一\n",
      "1.440575 NEXT     text:下一页\n",
      "1.440575 NEXT     text-exact:下一页\n",
      "1.391984 PAGE     text:<<\n",
      "1.384221 O        query:m\n",
      "1.376550 PAGE     elem-rel:next\n",
      "1.356580 PAGE     text:>|\n",
      "1.337715 O        text-after:...\n",
      "1.326451 O        href-has-year\n",
      "1.326367 O        num-tokens>2\n",
      "1.266192 PAGE     text-exact:XX\n",
      "1.262865 PAGE     text-after:iconi\n",
      "1.262865 PAGE     text-after:conin\n",
      "1.262865 PAGE     text-after:oninf\n",
      "1.262865 PAGE     text-after:ninfo\n",
      "1.234775 PAGE     text-before:page\n",
      "1.216381 PAGE     text-before:•\n",
      "1.214399 O        text-before:下部\n",
      "1.202104 PAGE     text-after::\n",
      "1.182600 PAGE     text-after:به\n",
      "1.182059 PAGE     text-after:رفتن\n",
      "1.182059 PAGE     text-after:صفحه\n",
      "1.174148 PREV     text:上一\n",
      "1.174148 PREV     text:上一页\n",
      "1.174148 PREV     text-exact:上一页\n",
      "1.153462 NEXT     text:一页\n",
      "1.151077 PAGE     text-before:pages\n",
      "1.132615 PAGE     text:|<\n",
      "1.128385 O        text-after:seite\n",
      "1.119226 PAGE     text-after:threa\n",
      "1.088847 O        text-after:eiten\n",
      "1.084662 O        text-after:iten:\n",
      "1.064508 PREV     text:前の\n",
      "1.055271 O        text-before:ージ送り\n",
      "1.046282 O        text-after:平台业务\n",
      "1.033542 PAGE     text-before:per\n",
      "1.020566 O        text-after:per\n",
      "1.013805 PREV     text:一页\n",
      "1.012758 O        text-after:start\n",
      "1.011051 O        elem-target:_blank\n",
      "1.008973 O        text-after:page\n",
      "0.999167 NEXT     text:ne\n",
      "0.998828 O        text-before:はじまり\n",
      "0.997992 NEXT     text:次の\n",
      "0.997356 PAGE     text-exact:<<\n",
      "0.988478 O        class:ng-n\n",
      "0.988478 O        class:g-ne\n",
      "0.988478 O        class:ing-n\n",
      "0.988478 O        class:ng-ne\n",
      "0.988478 O        class:g-nex\n",
      "0.925123 O        num-tokens=2\n",
      "0.924357 PAGE     class:last\n",
      "0.923787 NEXT     num-tokens=0\n",
      "0.905563 PREV     num-tokens=0\n",
      "0.905225 PAGE     text-before:pm\n",
      "0.902049 O        class:day\n",
      "0.891634 O        bias\n",
      "0.867912 PREV     text:prev\n",
      "0.862309 PAGE     text-before:2\n",
      "0.847248 O        text:...\n",
      "0.835511 PAGE     num-tokens=1\n",
      "0.819190 O        text-exact:...\n",
      "0.819108 PREV     text:pre\n",
      "0.818527 NEXT     path-has-pageXX\n",
      "0.817632 PAGE     text:XX\n",
      "0.817239 O        text-exact:\n",
      "0.809819 NEXT     text:next\n",
      "0.808489 NEXT     text:nex\n",
      "0.807705 PAGE     text-after:aktiv\n",
      "0.807705 PAGE     text-after:ktive\n",
      "0.807705 PAGE     text-after:mitgl\n",
      "0.807705 PAGE     text-after:itgli\n",
      "0.807705 PAGE     text-after:tglie\n",
      "0.807705 PAGE     text-after:glied\n",
      "0.807409 NEXT     text:ext\n",
      "0.806283 NEXT     text:xt\n",
      "0.805015 PREV     text:rev\n",
      "0.800757 PAGE     text-exact:XXX\n",
      "0.800341 PAGE     text-exact:|<\n",
      "0.763677 PREV     text:ev\n",
      "0.762690 PAGE     class:page\n",
      "0.762370 PAGE     class:firs\n",
      "0.762370 PAGE     class:irst\n",
      "0.762370 PAGE     class:first\n",
      "0.754012 NEXT     text:ex\n",
      "0.747118 O        text-after:to\n",
      "0.739674 O        text-after:page:\n",
      "0.727137 NEXT     text:次のペ\n",
      "0.727137 NEXT     text:次のペー\n",
      "0.727137 NEXT     text:次のページ\n",
      "0.727137 NEXT     text-exact:次のページ\n",
      "0.723580 O        text-after:jump\n",
      "0.722812 O        query:cou\n",
      "0.722812 O        query:oun\n",
      "0.722812 O        query:unt\n",
      "0.722812 O        query:coun\n",
      "0.722812 O        query:ount\n",
      "0.722812 O        query:count\n",
      "0.707593 PREV     class:_prev\n",
      "0.707318 PREV     class:_pre\n",
      "0.691911 PAGE     path-has-pageXX\n",
      "0.661789 PREV     isalpha\n",
      "0.653675 PAGE     text-after:上部\n",
      "0.644996 PAGE     text-after:2\n",
      "0.643093 PAGE     text-before:1\n",
      "0.638979 O        text:to\n",
      "0.628786 NEXT     text:のペ\n",
      "0.628786 NEXT     text:のペー\n",
      "0.628786 NEXT     text:のページ\n",
      "0.628431 NEXT     text:ページ\n",
      "0.620210 PAGE     elem-rel:start\n",
      "0.619039 NEXT     text:ージ\n",
      "0.617036 NEXT     text:ペー\n",
      "0.604334 O        query:do\n",
      "0.598851 PREV     text-exact:<< older posts\n",
      "0.580942 NEXT     class:_nex\n",
      "0.580942 NEXT     class:_next\n",
      "0.580371 PAGE     text:last\n",
      "0.577766 PAGE     text-after:共\n",
      "0.575516 PAGE     text-exact:end\n",
      "0.572820 PAGE     path-has-page\n",
      "0.571180 O        query:tid\n",
      "0.571147 PAGE     query:page\n",
      "0.567110 NEXT     text:ле\n",
      "0.566055 PREV     text:前のペ\n",
      "0.566055 PREV     text:前のペー\n",
      "0.566055 PREV     text:前のページ\n",
      "0.566055 PREV     text-exact:前のページ\n",
      "0.561438 O        query:esi\n",
      "0.555507 O        text:XXX\n",
      "\n",
      "Top negative:\n",
      "-0.696711 O        elem-rel:next\n",
      "-0.717388 PREV     num-tokens=1\n",
      "-0.723820 PAGE     text-after:page:\n",
      "-0.737089 PAGE     text-after:下部\n",
      "-0.742533 PAGE     text-after:jump\n",
      "-0.755783 PAGE     text-after:to\n",
      "-0.773369 O        query:tar\n",
      "-0.777199 O        query:sta\n",
      "-0.777875 PAGE     text-after:iten:\n",
      "-0.780011 PAGE     text-after:eiten\n",
      "-0.781031 O        text-after:aktiv\n",
      "-0.781031 O        text-after:ktive\n",
      "-0.781031 O        text-after:mitgl\n",
      "-0.781031 O        text-after:itgli\n",
      "-0.781031 O        text-after:tglie\n",
      "-0.781031 O        text-after:glied\n",
      "-0.833795 O        text-before:2\n",
      "-0.833827 O        text-before:1\n",
      "-0.848996 PAGE     text-after:seite\n",
      "-0.855745 O        query:star\n",
      "-0.885200 O        text-before:pm\n",
      "-0.919618 O        class:prev\n",
      "-0.931887 O        query:art\n",
      "-0.939200 O        query:tart\n",
      "-0.939200 O        query:start\n",
      "-0.945606 PAGE     text-after:page\n",
      "-0.972250 PAGE     text-before:はじまり\n",
      "-1.002134 NEXT     bias\n",
      "-1.008599 O        text-before:per\n",
      "-1.019071 O        class:page\n",
      "-1.054493 PAGE     text-before:ージ送り\n",
      "-1.075669 PREV     bias\n",
      "-1.128963 O        text-after:threa\n",
      "-1.147423 O        path-has-page\n",
      "-1.156813 O        text-before:•\n",
      "-1.179257 O        query:age\n",
      "-1.179422 O        text-before:page\n",
      "-1.186108 O        text-before:pages\n",
      "-1.187088 O        text-after::\n",
      "-1.188335 PAGE     text-before:下部\n",
      "-1.199007 O        text-after:به\n",
      "-1.275639 PAGE     text-after:...\n",
      "-1.329661 O        query:pag\n",
      "-1.379270 O        query:page\n",
      "-1.446947 PAGE     num-tokens=0\n",
      "-1.461946 PAGE     href-has-year\n",
      "-1.495667 PREV     isdigit\n",
      "-1.737257 O        path-has-pageXX\n",
      "-1.830020 O        text:首页\n",
      "-1.967448 NEXT     isdigit\n"
     ]
    }
   ],
   "source": [
    "# XXX: weight for correlated features don't show their importance\n",
    "# XXX: weights for features of different scale don't show their importance\n",
    "# (e.g. coefficients to text-after and text-before features are high, but only\n",
    "# because input is scaled down for these features)\n",
    "\n",
    "def print_state_features(state_features):\n",
    "    for (attr, label), weight in state_features:\n",
    "        print(\"%0.6f %-8s %s\" % (weight, label, attr))\n",
    "\n",
    "print(\"Top positive:\")\n",
    "print_state_features(Counter(crf.state_features_).most_common(150))\n",
    "\n",
    "print(\"\\nTop negative:\")\n",
    "print_state_features(Counter(crf.state_features_).most_common()[-50:])"
   ]
  },
  {
   "cell_type": "code",
   "execution_count": 10,
   "metadata": {
    "collapsed": false
   },
   "outputs": [
    {
     "name": "stdout",
     "output_type": "stream",
     "text": [
      "Transitions:\n",
      "O      -> O       1.929150\n",
      "PREV   -> PAGE    1.740921\n",
      "PAGE   -> NEXT    1.687386\n",
      "NEXT   -> PAGE    1.201963\n",
      "PAGE   -> PREV    0.917556\n",
      "PREV   -> NEXT    0.544653\n",
      "O      -> PREV    0.039332\n",
      "PAGE   -> PAGE    -0.262285\n",
      "NEXT   -> O       -0.264870\n",
      "NEXT   -> PREV    -0.604082\n",
      "PREV   -> PREV    -0.839827\n",
      "NEXT   -> NEXT    -1.175496\n",
      "PAGE   -> O       -1.603856\n",
      "O      -> NEXT    -1.770049\n",
      "O      -> PAGE    -1.780110\n",
      "PREV   -> O       -1.858937\n"
     ]
    }
   ],
   "source": [
    "from collections import Counter\n",
    "\n",
    "def print_transitions(trans_features):\n",
    "    for (label_from, label_to), weight in trans_features:\n",
    "        print(\"%-6s -> %-7s %0.6f\" % (label_from, label_to, weight))\n",
    "\n",
    "print(\"Transitions:\")\n",
    "print_transitions(Counter(crf.transition_features_).most_common())"
   ]
  },
  {
   "cell_type": "markdown",
   "metadata": {},
   "source": [
    "## Let's check errors the model is making"
   ]
  },
  {
   "cell_type": "code",
   "execution_count": 11,
   "metadata": {
    "collapsed": false
   },
   "outputs": [
    {
     "ename": "ModuleNotFoundError",
     "evalue": "No module named 'sklearn.cross_validation'",
     "output_type": "error",
     "traceback": [
      "\u001B[0;31m---------------------------------------------------------------------------\u001B[0m",
      "\u001B[0;31mModuleNotFoundError\u001B[0m                       Traceback (most recent call last)",
      "\u001B[0;32m<ipython-input-11-f0f50674ce1d>\u001B[0m in \u001B[0;36m<module>\u001B[0;34m\u001B[0m\n\u001B[0;32m----> 1\u001B[0;31m \u001B[0mfolds\u001B[0m \u001B[0;34m=\u001B[0m \u001B[0mget_annotation_folds\u001B[0m\u001B[0;34m(\u001B[0m\u001B[0murls\u001B[0m\u001B[0;34m,\u001B[0m \u001B[0;36m6\u001B[0m\u001B[0;34m)\u001B[0m\u001B[0;34m\u001B[0m\u001B[0;34m\u001B[0m\u001B[0m\n\u001B[0m\u001B[1;32m      2\u001B[0m \u001B[0my_pred\u001B[0m \u001B[0;34m=\u001B[0m \u001B[0mcross_val_predict\u001B[0m\u001B[0;34m(\u001B[0m\u001B[0mcrf\u001B[0m\u001B[0;34m,\u001B[0m \u001B[0mX\u001B[0m\u001B[0;34m,\u001B[0m \u001B[0my\u001B[0m\u001B[0;34m,\u001B[0m \u001B[0mcv\u001B[0m\u001B[0;34m=\u001B[0m\u001B[0mfolds\u001B[0m\u001B[0;34m,\u001B[0m \u001B[0mn_jobs\u001B[0m\u001B[0;34m=\u001B[0m\u001B[0;34m-\u001B[0m\u001B[0;36m1\u001B[0m\u001B[0;34m)\u001B[0m\u001B[0;34m\u001B[0m\u001B[0;34m\u001B[0m\u001B[0m\n\u001B[1;32m      3\u001B[0m \u001B[0merrors\u001B[0m \u001B[0;34m=\u001B[0m \u001B[0mnp\u001B[0m\u001B[0;34m.\u001B[0m\u001B[0masarray\u001B[0m\u001B[0;34m(\u001B[0m\u001B[0my\u001B[0m\u001B[0;34m)\u001B[0m \u001B[0;34m!=\u001B[0m \u001B[0mnp\u001B[0m\u001B[0;34m.\u001B[0m\u001B[0masarray\u001B[0m\u001B[0;34m(\u001B[0m\u001B[0my_pred\u001B[0m\u001B[0;34m)\u001B[0m\u001B[0;34m\u001B[0m\u001B[0;34m\u001B[0m\u001B[0m\n\u001B[1;32m      4\u001B[0m \u001B[0merror_rows\u001B[0m \u001B[0;34m=\u001B[0m \u001B[0mnp\u001B[0m\u001B[0;34m.\u001B[0m\u001B[0masarray\u001B[0m\u001B[0;34m(\u001B[0m\u001B[0mlist\u001B[0m\u001B[0;34m(\u001B[0m\u001B[0mstorage\u001B[0m\u001B[0;34m.\u001B[0m\u001B[0miter_records\u001B[0m\u001B[0;34m(\u001B[0m\u001B[0;34m)\u001B[0m\u001B[0;34m)\u001B[0m\u001B[0;34m)\u001B[0m\u001B[0;34m[\u001B[0m\u001B[0merrors\u001B[0m\u001B[0;34m]\u001B[0m\u001B[0;34m\u001B[0m\u001B[0;34m\u001B[0m\u001B[0m\n\u001B[1;32m      5\u001B[0m \u001B[0merror_links\u001B[0m \u001B[0;34m=\u001B[0m \u001B[0mnp\u001B[0m\u001B[0;34m.\u001B[0m\u001B[0masarray\u001B[0m\u001B[0;34m(\u001B[0m\u001B[0mX_raw\u001B[0m\u001B[0;34m)\u001B[0m\u001B[0;34m[\u001B[0m\u001B[0merrors\u001B[0m\u001B[0;34m]\u001B[0m\u001B[0;34m\u001B[0m\u001B[0;34m\u001B[0m\u001B[0m\n",
      "\u001B[0;32m~/Documentos/scrapinghub/dev/autopager/autopager/evaluate.py\u001B[0m in \u001B[0;36mget_annotation_folds\u001B[0;34m(urls, n_folds)\u001B[0m\n\u001B[1;32m     21\u001B[0m     \u001B[0mtrain_test_split\u001B[0m \u001B[0;32mfrom\u001B[0m \u001B[0mscikit\u001B[0m\u001B[0;34m-\u001B[0m\u001B[0mlearn\u001B[0m \u001B[0mshouldn\u001B[0m\u001B[0;31m'\u001B[0m\u001B[0mt\u001B[0m \u001B[0mbe\u001B[0m \u001B[0mused\u001B[0m \u001B[0mhere\u001B[0m\u001B[0;34m\u001B[0m\u001B[0;34m\u001B[0m\u001B[0m\n\u001B[1;32m     22\u001B[0m     \"\"\"\n\u001B[0;32m---> 23\u001B[0;31m     \u001B[0;32mfrom\u001B[0m \u001B[0msklearn\u001B[0m\u001B[0;34m.\u001B[0m\u001B[0mcross_validation\u001B[0m \u001B[0;32mimport\u001B[0m \u001B[0mLabelKFold\u001B[0m\u001B[0;34m\u001B[0m\u001B[0;34m\u001B[0m\u001B[0m\n\u001B[0m\u001B[1;32m     24\u001B[0m     return LabelKFold(\n\u001B[1;32m     25\u001B[0m         \u001B[0mlabels\u001B[0m\u001B[0;34m=\u001B[0m\u001B[0;34m[\u001B[0m\u001B[0mget_domain\u001B[0m\u001B[0;34m(\u001B[0m\u001B[0murl\u001B[0m\u001B[0;34m)\u001B[0m \u001B[0;32mfor\u001B[0m \u001B[0murl\u001B[0m \u001B[0;32min\u001B[0m \u001B[0murls\u001B[0m\u001B[0;34m]\u001B[0m\u001B[0;34m,\u001B[0m\u001B[0;34m\u001B[0m\u001B[0;34m\u001B[0m\u001B[0m\n",
      "\u001B[0;31mModuleNotFoundError\u001B[0m: No module named 'sklearn.cross_validation'"
     ]
    }
   ],
   "source": [
    "folds = get_annotation_folds(urls, 6)\n",
    "y_pred = cross_val_predict(crf, X, y, cv=folds, n_jobs=-1)\n",
    "errors = np.asarray(y) != np.asarray(y_pred)\n",
    "error_rows = np.asarray(list(storage.iter_records()))[errors]\n",
    "error_links = np.asarray(X_raw)[errors]\n",
    "error_y_pred = y_pred[errors]\n",
    "error_y_true = np.asarray(y)[errors]"
   ]
  },
  {
   "cell_type": "code",
   "execution_count": null,
   "metadata": {
    "collapsed": false,
    "scrolled": true
   },
   "outputs": [],
   "source": [
    "for links, yseq_pred, yseq_true, row in zip(error_links, error_y_pred, error_y_true, error_rows):\n",
    "    print(row['Page URL'])\n",
    "    for label_correct, label_pred, link in zip(yseq_true, yseq_pred, links.extract()):\n",
    "        if label_correct != label_pred:\n",
    "            print(\"%4s %4s %s\" % (label_correct, label_pred, link))\n",
    "    print(\"\\n\")"
   ]
  },
  {
   "cell_type": "markdown",
   "metadata": {},
   "source": [
    "## Unused code"
   ]
  },
  {
   "cell_type": "code",
   "execution_count": null,
   "metadata": {
    "collapsed": false
   },
   "outputs": [],
   "source": [
    "def _url_parts(url):\n",
    "    p = urlsplit(url)\n",
    "    args = parse_qsl(p.query)\n",
    "    argnames = [name for name, value in args]\n",
    "    return p.netloc, set(p.path.split('/')) | set(args) | set(argnames)\n",
    "\n",
    "def url_distance(url1, url2):\n",
    "    netloc1, parts1 = _url_parts(url1)\n",
    "    netloc2, parts2 = _url_parts(url2)\n",
    "    if netloc1 != netloc2:\n",
    "        return 1.0\n",
    "    if not parts1 and not parts2:\n",
    "        return 0.0\n",
    "    return 1 - len(parts1 & parts2) / len(parts1 | parts2)\n",
    "\n",
    "#         dist = url_distance(url, href)\n",
    "#         if dist == 0:\n",
    "#             feat['url-distance=0'] = 1.0\n",
    "#         elif dist == 1.0:\n",
    "#             feat['url-distance=1'] = 1.0\n",
    "#         else:\n",
    "#             feat['url-distance=k'] = dist\n",
    "\n",
    "\n",
    "url_distance('http://example.com/foo/345?page=2', 'http://example.com/foo/345?page=4')"
   ]
  },
  {
   "cell_type": "code",
   "execution_count": null,
   "metadata": {
    "collapsed": true
   },
   "outputs": [],
   "source": [
    "# def guess_page_number(link):\n",
    "#     text = get_link_text(link).strip()\n",
    "#     if text.isdigit():\n",
    "#         return int(text)\n",
    "#     return None\n",
    "\n",
    "# def number_pattern2(pattern):\n",
    "#     txt = re.sub('X+', 'X', pattern)\n",
    "# #     txt = re.sub('C+', 'C', txt)\n",
    "#     return txt\n",
    "\n",
    "#     pagenums = [guess_page_number(a) for a in xseq]\n",
    "# #     print(pagenums)\n",
    "#     for i in range(1, len(xseq)):\n",
    "#         if pagenums[i-1] is None or pagenums[i] is None:\n",
    "#             features[i]['page-diff:None'] = 1.0\n",
    "#         else:\n",
    "#             diff = pagenums[i] - pagenums[i-1]\n",
    "#             if diff == 1:\n",
    "#                 features[i]['page-diff==1'] = 1.0\n",
    "#             else:\n",
    "#                 features[i]['page-diff<>1'] = 1.0"
   ]
  }
 ],
 "metadata": {
  "kernelspec": {
   "display_name": "Python 3",
   "language": "python",
   "name": "python3"
  },
  "language_info": {
   "codemirror_mode": {
    "name": "ipython",
    "version": 3
   },
   "file_extension": ".py",
   "mimetype": "text/x-python",
   "name": "python",
   "nbconvert_exporter": "python",
   "pygments_lexer": "ipython3",
   "version": "3.5.1"
  }
 },
 "nbformat": 4,
 "nbformat_minor": 0
}